{
  "cells": [
    {
      "cell_type": "code",
      "execution_count": 1,
      "metadata": {
        "id": "THHpmnELxg3s"
      },
      "outputs": [],
      "source": [
        "import tensorflow as tf\n",
        "import numpy as np\n",
        "import matplotlib as plt\n",
        "from keras.models import Sequential\n",
        "from keras.layers import Dense, Conv2D, MaxPool2D , Flatten\n",
        "from keras.preprocessing.image import ImageDataGenerator\n",
        "import numpy as np\n",
        "import scipy\n",
        "from PIL import Image"
      ]
    },
    {
      "cell_type": "code",
      "execution_count": 43,
      "metadata": {},
      "outputs": [],
      "source": [
        "def split_image(image3, tile_size):\n",
        "    image_shape = tf.shape(image3)\n",
        "    tile_rows = tf.reshape(image3, [image_shape[0], -1, tile_size[1], image_shape[2]])\n",
        "    serial_tiles = tf.transpose(tile_rows, [1, 0, 2, 3])\n",
        "    return tf.reshape(serial_tiles, [-1, tile_size[1], tile_size[0], image_shape[2]])"
      ]
    },
    {
      "cell_type": "code",
      "execution_count": 24,
      "metadata": {
        "colab": {
          "base_uri": "https://localhost:8080/",
          "height": 427
        },
        "id": "L_q8KkgJPQE6",
        "outputId": "805c759f-2de3-4d6f-e969-6898b0dedc2c"
      },
      "outputs": [
        {
          "name": "stdout",
          "output_type": "stream",
          "text": [
            "Found 33762 images belonging to 2 classes.\n"
          ]
        }
      ],
      "source": [
        "\n",
        "trdata = ImageDataGenerator()\n",
        "#traindata = trdata.flow_from_directory(directory= r\"C:\\Users\\gonza\\Downloads\\dataset\", target_size=(400,400))\n",
        "traindata = trdata.flow_from_directory(directory=r\"C:\\Users\\47573400\\Downloads\\dataset\", target_size=(400,400), batch_size= 1)"
      ]
    },
    {
      "cell_type": "code",
      "execution_count": 47,
      "metadata": {
        "colab": {
          "base_uri": "https://localhost:8080/",
          "height": 256
        },
        "id": "2tbGIGey7o_a",
        "outputId": "d5a33504-5286-4d06-9fea-cff3ce07a8ed"
      },
      "outputs": [
        {
          "ename": "InvalidArgumentError",
          "evalue": "{{function_node __wrapped__StridedSlice_device_/job:localhost/replica:0/task:0/device:CPU:0}} slice index 2 of dimension 0 out of bounds. [Op:StridedSlice] name: strided_slice/",
          "output_type": "error",
          "traceback": [
            "\u001b[1;31m---------------------------------------------------------------------------\u001b[0m",
            "\u001b[1;31mInvalidArgumentError\u001b[0m                      Traceback (most recent call last)",
            "\u001b[1;32mc:\\Users\\47573400\\Documents\\GitHub\\EntregaChona_Gonzalo_Gnus\\Tp_Final_CNN.ipynb Cell 4\u001b[0m line \u001b[0;36m2\n\u001b[0;32m      <a href='vscode-notebook-cell:/c%3A/Users/47573400/Documents/GitHub/EntregaChona_Gonzalo_Gnus/Tp_Final_CNN.ipynb#W6sZmlsZQ%3D%3D?line=0'>1</a>\u001b[0m \u001b[39m#16 boxes de 50x50\u001b[39;00m\n\u001b[1;32m----> <a href='vscode-notebook-cell:/c%3A/Users/47573400/Documents/GitHub/EntregaChona_Gonzalo_Gnus/Tp_Final_CNN.ipynb#W6sZmlsZQ%3D%3D?line=1'>2</a>\u001b[0m image \u001b[39m=\u001b[39m split_image(traindata\u001b[39m.\u001b[39;49mclasses\u001b[39m.\u001b[39;49mtake(\u001b[39m1\u001b[39;49m)\u001b[39m.\u001b[39;49mshape, [\u001b[39m50\u001b[39;49m,\u001b[39m50\u001b[39;49m])\n\u001b[0;32m      <a href='vscode-notebook-cell:/c%3A/Users/47573400/Documents/GitHub/EntregaChona_Gonzalo_Gnus/Tp_Final_CNN.ipynb#W6sZmlsZQ%3D%3D?line=2'>3</a>\u001b[0m \u001b[39m#image = tf.random.normal(shape=(1, 400, 400, 3 ))\u001b[39;00m\n\u001b[0;32m      <a href='vscode-notebook-cell:/c%3A/Users/47573400/Documents/GitHub/EntregaChona_Gonzalo_Gnus/Tp_Final_CNN.ipynb#W6sZmlsZQ%3D%3D?line=3'>4</a>\u001b[0m \u001b[39m#image = tf.shape(traindata.classes[0].image[1])\u001b[39;00m\n\u001b[0;32m      <a href='vscode-notebook-cell:/c%3A/Users/47573400/Documents/GitHub/EntregaChona_Gonzalo_Gnus/Tp_Final_CNN.ipynb#W6sZmlsZQ%3D%3D?line=4'>5</a>\u001b[0m boxes \u001b[39m=\u001b[39m tf\u001b[39m.\u001b[39mrandom\u001b[39m.\u001b[39muniform(shape\u001b[39m=\u001b[39m(\u001b[39m10\u001b[39m, \u001b[39m4\u001b[39m))\n",
            "\u001b[1;32mc:\\Users\\47573400\\Documents\\GitHub\\EntregaChona_Gonzalo_Gnus\\Tp_Final_CNN.ipynb Cell 4\u001b[0m line \u001b[0;36m3\n\u001b[0;32m      <a href='vscode-notebook-cell:/c%3A/Users/47573400/Documents/GitHub/EntregaChona_Gonzalo_Gnus/Tp_Final_CNN.ipynb#W6sZmlsZQ%3D%3D?line=0'>1</a>\u001b[0m \u001b[39mdef\u001b[39;00m \u001b[39msplit_image\u001b[39m(image3, tile_size):\n\u001b[0;32m      <a href='vscode-notebook-cell:/c%3A/Users/47573400/Documents/GitHub/EntregaChona_Gonzalo_Gnus/Tp_Final_CNN.ipynb#W6sZmlsZQ%3D%3D?line=1'>2</a>\u001b[0m     image_shape \u001b[39m=\u001b[39m tf\u001b[39m.\u001b[39mshape(image3)\n\u001b[1;32m----> <a href='vscode-notebook-cell:/c%3A/Users/47573400/Documents/GitHub/EntregaChona_Gonzalo_Gnus/Tp_Final_CNN.ipynb#W6sZmlsZQ%3D%3D?line=2'>3</a>\u001b[0m     tile_rows \u001b[39m=\u001b[39m tf\u001b[39m.\u001b[39mreshape(image3, [image_shape[\u001b[39m0\u001b[39m], \u001b[39m-\u001b[39m\u001b[39m1\u001b[39m, tile_size[\u001b[39m1\u001b[39m], image_shape[\u001b[39m2\u001b[39;49m]])\n\u001b[0;32m      <a href='vscode-notebook-cell:/c%3A/Users/47573400/Documents/GitHub/EntregaChona_Gonzalo_Gnus/Tp_Final_CNN.ipynb#W6sZmlsZQ%3D%3D?line=3'>4</a>\u001b[0m     serial_tiles \u001b[39m=\u001b[39m tf\u001b[39m.\u001b[39mtranspose(tile_rows, [\u001b[39m1\u001b[39m, \u001b[39m0\u001b[39m, \u001b[39m2\u001b[39m, \u001b[39m3\u001b[39m])\n\u001b[0;32m      <a href='vscode-notebook-cell:/c%3A/Users/47573400/Documents/GitHub/EntregaChona_Gonzalo_Gnus/Tp_Final_CNN.ipynb#W6sZmlsZQ%3D%3D?line=4'>5</a>\u001b[0m     \u001b[39mreturn\u001b[39;00m tf\u001b[39m.\u001b[39mreshape(serial_tiles, [\u001b[39m-\u001b[39m\u001b[39m1\u001b[39m, tile_size[\u001b[39m1\u001b[39m], tile_size[\u001b[39m0\u001b[39m], image_shape[\u001b[39m2\u001b[39m]])\n",
            "File \u001b[1;32m~\\AppData\\Roaming\\Python\\Python310\\site-packages\\tensorflow\\python\\util\\traceback_utils.py:153\u001b[0m, in \u001b[0;36mfilter_traceback.<locals>.error_handler\u001b[1;34m(*args, **kwargs)\u001b[0m\n\u001b[0;32m    151\u001b[0m \u001b[39mexcept\u001b[39;00m \u001b[39mException\u001b[39;00m \u001b[39mas\u001b[39;00m e:\n\u001b[0;32m    152\u001b[0m   filtered_tb \u001b[39m=\u001b[39m _process_traceback_frames(e\u001b[39m.\u001b[39m__traceback__)\n\u001b[1;32m--> 153\u001b[0m   \u001b[39mraise\u001b[39;00m e\u001b[39m.\u001b[39mwith_traceback(filtered_tb) \u001b[39mfrom\u001b[39;00m \u001b[39mNone\u001b[39;00m\n\u001b[0;32m    154\u001b[0m \u001b[39mfinally\u001b[39;00m:\n\u001b[0;32m    155\u001b[0m   \u001b[39mdel\u001b[39;00m filtered_tb\n",
            "File \u001b[1;32m~\\AppData\\Roaming\\Python\\Python310\\site-packages\\tensorflow\\python\\framework\\ops.py:7209\u001b[0m, in \u001b[0;36mraise_from_not_ok_status\u001b[1;34m(e, name)\u001b[0m\n\u001b[0;32m   7207\u001b[0m \u001b[39mdef\u001b[39;00m \u001b[39mraise_from_not_ok_status\u001b[39m(e, name):\n\u001b[0;32m   7208\u001b[0m   e\u001b[39m.\u001b[39mmessage \u001b[39m+\u001b[39m\u001b[39m=\u001b[39m (\u001b[39m\"\u001b[39m\u001b[39m name: \u001b[39m\u001b[39m\"\u001b[39m \u001b[39m+\u001b[39m name \u001b[39mif\u001b[39;00m name \u001b[39mis\u001b[39;00m \u001b[39mnot\u001b[39;00m \u001b[39mNone\u001b[39;00m \u001b[39melse\u001b[39;00m \u001b[39m\"\u001b[39m\u001b[39m\"\u001b[39m)\n\u001b[1;32m-> 7209\u001b[0m   \u001b[39mraise\u001b[39;00m core\u001b[39m.\u001b[39m_status_to_exception(e) \u001b[39mfrom\u001b[39;00m \u001b[39mNone\u001b[39;00m\n",
            "\u001b[1;31mInvalidArgumentError\u001b[0m: {{function_node __wrapped__StridedSlice_device_/job:localhost/replica:0/task:0/device:CPU:0}} slice index 2 of dimension 0 out of bounds. [Op:StridedSlice] name: strided_slice/"
          ]
        }
      ],
      "source": [
        "#16 boxes de 50x50\n",
        "image = split_image(traindata.classes.take(1).shape, [50,50])\n",
        "#image = tf.random.normal(shape=(1, 400, 400, 3 ))\n",
        "#image = tf.shape(traindata.classes[0].image[1])\n",
        "boxes = tf.random.uniform(shape=(10, 4))\n",
        "box_indices = tf.random.uniform(shape=(10,)\n",
        "                                , minval=0,\n",
        "  maxval=1, \n",
        "  dtype=tf.int32)\n",
        "tf.image.crop_and_resize(image ,boxes, box_indices, (50,50) )\n",
        "#tf.image.crop_to_bounding_box(testdata.classes[0]imag, 0, 0, 2, 2)\n",
        "#tf.image.crop_to_bounding_box(testdata)"
      ]
    },
    {
      "cell_type": "code",
      "execution_count": 48,
      "metadata": {},
      "outputs": [
        {
          "data": {
            "text/plain": [
              "<tf.Tensor: shape=(0,), dtype=int32, numpy=array([], dtype=int32)>"
            ]
          },
          "execution_count": 48,
          "metadata": {},
          "output_type": "execute_result"
        }
      ],
      "source": [
        "tf.shape(traindata.classes.take(1))"
      ]
    },
    {
      "cell_type": "markdown",
      "metadata": {
        "id": "kj43oziGeSx2"
      },
      "source": [
        "https://builtin.com/machine-learning/vgg16\n",
        "\n",
        "https://towardsdatascience.com/transfer-learning-with-vgg16-and-keras-50ea161580b4"
      ]
    }
  ],
  "metadata": {
    "colab": {
      "provenance": []
    },
    "kernelspec": {
      "display_name": "Python 3",
      "name": "python3"
    },
    "language_info": {
      "codemirror_mode": {
        "name": "ipython",
        "version": 3
      },
      "file_extension": ".py",
      "mimetype": "text/x-python",
      "name": "python",
      "nbconvert_exporter": "python",
      "pygments_lexer": "ipython3",
      "version": "3.10.0"
    }
  },
  "nbformat": 4,
  "nbformat_minor": 0
}
