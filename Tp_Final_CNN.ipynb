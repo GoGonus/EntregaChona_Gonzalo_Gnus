{
  "cells": [
    {
      "cell_type": "code",
      "execution_count": 20,
      "metadata": {
        "id": "THHpmnELxg3s"
      },
      "outputs": [],
      "source": [
        "import tensorflow as tf\n",
        "import numpy as np\n",
        "import matplotlib as plt\n",
        "from keras.models import Sequential\n",
        "from keras.layers import Dense, Conv2D, MaxPool2D , Flatten\n",
        "from keras.preprocessing.image import ImageDataGenerator\n",
        "import numpy as np\n",
        "import scipy\n",
        "from PIL import Image"
      ]
    },
    {
      "cell_type": "code",
      "execution_count": 24,
      "metadata": {
        "colab": {
          "base_uri": "https://localhost:8080/",
          "height": 427
        },
        "id": "L_q8KkgJPQE6",
        "outputId": "805c759f-2de3-4d6f-e969-6898b0dedc2c"
      },
      "outputs": [
        {
          "name": "stdout",
          "output_type": "stream",
          "text": [
            "Found 49460 images belonging to 2 classes.\n",
            "Found 49460 images belonging to 2 classes.\n"
          ]
        }
      ],
      "source": [
        "\n",
        "trdata = ImageDataGenerator()\n",
        "traindata = trdata.flow_from_directory(directory= r\"C:\\Users\\gonza\\Downloads\\dataset\", target_size=(400,400))\n",
        "tsdata = ImageDataGenerator()\n",
        "testdata = tsdata.flow_from_directory(directory=r\"C:\\Users\\gonza\\Downloads\\dataset\", target_size=(50,50))"
      ]
    },
    {
      "cell_type": "code",
      "execution_count": 26,
      "metadata": {
        "colab": {
          "base_uri": "https://localhost:8080/",
          "height": 256
        },
        "id": "2tbGIGey7o_a",
        "outputId": "d5a33504-5286-4d06-9fea-cff3ce07a8ed"
      },
      "outputs": [
        {
          "ename": "TypeError",
          "evalue": "Missing required positional argument",
          "output_type": "error",
          "traceback": [
            "\u001b[1;31m---------------------------------------------------------------------------\u001b[0m",
            "\u001b[1;31mTypeError\u001b[0m                                 Traceback (most recent call last)",
            "\u001b[1;32mc:\\Users\\gonza\\OneDrive\\Documentos\\GitHub\\EntregaChona_Gonzalo_Gnus\\Tp_Final_CNN.ipynb Cell 3\u001b[0m line \u001b[0;36m2\n\u001b[0;32m      <a href='vscode-notebook-cell:/c%3A/Users/gonza/OneDrive/Documentos/GitHub/EntregaChona_Gonzalo_Gnus/Tp_Final_CNN.ipynb#W2sZmlsZQ%3D%3D?line=0'>1</a>\u001b[0m \u001b[39m#16 boxes de 50x50\u001b[39;00m\n\u001b[1;32m----> <a href='vscode-notebook-cell:/c%3A/Users/gonza/OneDrive/Documentos/GitHub/EntregaChona_Gonzalo_Gnus/Tp_Final_CNN.ipynb#W2sZmlsZQ%3D%3D?line=1'>2</a>\u001b[0m tf\u001b[39m.\u001b[39;49mimage\u001b[39m.\u001b[39;49mcrop_and_resize(traindata,\u001b[39m16\u001b[39;49m,[\u001b[39m50\u001b[39;49m,\u001b[39m50\u001b[39;49m])\n\u001b[0;32m      <a href='vscode-notebook-cell:/c%3A/Users/gonza/OneDrive/Documentos/GitHub/EntregaChona_Gonzalo_Gnus/Tp_Final_CNN.ipynb#W2sZmlsZQ%3D%3D?line=2'>3</a>\u001b[0m \u001b[39m#tf.image.crop_to_bounding_box(testdata.classes[0]imag, 0, 0, 2, 2)\u001b[39;00m\n\u001b[0;32m      <a href='vscode-notebook-cell:/c%3A/Users/gonza/OneDrive/Documentos/GitHub/EntregaChona_Gonzalo_Gnus/Tp_Final_CNN.ipynb#W2sZmlsZQ%3D%3D?line=3'>4</a>\u001b[0m \u001b[39m#tf.image.crop_to_bounding_box(testdata)\u001b[39;00m\n",
            "File \u001b[1;32m~\\AppData\\Local\\Packages\\PythonSoftwareFoundation.Python.3.11_qbz5n2kfra8p0\\LocalCache\\local-packages\\Python311\\site-packages\\tensorflow\\python\\util\\traceback_utils.py:153\u001b[0m, in \u001b[0;36mfilter_traceback.<locals>.error_handler\u001b[1;34m(*args, **kwargs)\u001b[0m\n\u001b[0;32m    151\u001b[0m \u001b[39mexcept\u001b[39;00m \u001b[39mException\u001b[39;00m \u001b[39mas\u001b[39;00m e:\n\u001b[0;32m    152\u001b[0m   filtered_tb \u001b[39m=\u001b[39m _process_traceback_frames(e\u001b[39m.\u001b[39m__traceback__)\n\u001b[1;32m--> 153\u001b[0m   \u001b[39mraise\u001b[39;00m e\u001b[39m.\u001b[39mwith_traceback(filtered_tb) \u001b[39mfrom\u001b[39;00m \u001b[39mNone\u001b[39;00m\n\u001b[0;32m    154\u001b[0m \u001b[39mfinally\u001b[39;00m:\n\u001b[0;32m    155\u001b[0m   \u001b[39mdel\u001b[39;00m filtered_tb\n",
            "File \u001b[1;32m~\\AppData\\Local\\Packages\\PythonSoftwareFoundation.Python.3.11_qbz5n2kfra8p0\\LocalCache\\local-packages\\Python311\\site-packages\\tensorflow\\python\\util\\dispatch.py:1254\u001b[0m, in \u001b[0;36madd_dispatch_support.<locals>.decorator.<locals>.op_dispatch_handler\u001b[1;34m(*args, **kwargs)\u001b[0m\n\u001b[0;32m   1252\u001b[0m \u001b[39mif\u001b[39;00m iterable_params \u001b[39mis\u001b[39;00m \u001b[39mnot\u001b[39;00m \u001b[39mNone\u001b[39;00m:\n\u001b[0;32m   1253\u001b[0m   args, kwargs \u001b[39m=\u001b[39m replace_iterable_params(args, kwargs, iterable_params)\n\u001b[1;32m-> 1254\u001b[0m result \u001b[39m=\u001b[39m api_dispatcher\u001b[39m.\u001b[39;49mDispatch(args, kwargs)\n\u001b[0;32m   1255\u001b[0m \u001b[39mif\u001b[39;00m result \u001b[39mis\u001b[39;00m \u001b[39mnot\u001b[39;00m \u001b[39mNotImplemented\u001b[39m:\n\u001b[0;32m   1256\u001b[0m   \u001b[39mreturn\u001b[39;00m result\n",
            "\u001b[1;31mTypeError\u001b[0m: Missing required positional argument"
          ]
        }
      ],
      "source": [
        "#16 boxes de 50x50\n",
        "tf.image.crop_and_resize(traindata,16,[50,50])\n",
        "#tf.image.crop_to_bounding_box(testdata.classes[0]imag, 0, 0, 2, 2)\n",
        "#tf.image.crop_to_bounding_box(testdata)"
      ]
    },
    {
      "cell_type": "markdown",
      "metadata": {
        "id": "kj43oziGeSx2"
      },
      "source": [
        "https://builtin.com/machine-learning/vgg16\n",
        "\n",
        "https://towardsdatascience.com/transfer-learning-with-vgg16-and-keras-50ea161580b4"
      ]
    }
  ],
  "metadata": {
    "colab": {
      "provenance": []
    },
    "kernelspec": {
      "display_name": "Python 3",
      "name": "python3"
    },
    "language_info": {
      "codemirror_mode": {
        "name": "ipython",
        "version": 3
      },
      "file_extension": ".py",
      "mimetype": "text/x-python",
      "name": "python",
      "nbconvert_exporter": "python",
      "pygments_lexer": "ipython3",
      "version": "3.11.6"
    }
  },
  "nbformat": 4,
  "nbformat_minor": 0
}
