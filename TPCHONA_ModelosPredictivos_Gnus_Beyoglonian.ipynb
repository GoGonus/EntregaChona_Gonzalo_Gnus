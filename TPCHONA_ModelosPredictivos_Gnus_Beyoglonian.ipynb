{
  "nbformat": 4,
  "nbformat_minor": 0,
  "metadata": {
    "colab": {
      "provenance": []
    },
    "kernelspec": {
      "name": "python3",
      "display_name": "Python 3"
    },
    "language_info": {
      "name": "python"
    }
  },
  "cells": [
    {
      "cell_type": "code",
      "execution_count": 145,
      "metadata": {
        "id": "gA--JvnxvVIB"
      },
      "outputs": [],
      "source": [
        "import pandas as pd\n",
        "import seaborn as sns\n",
        "import matplotlib.pyplot as plt\n",
        "import numpy as np\n",
        "from sklearn import preprocessing\n",
        "from sklearn import linear_model\n",
        "from sklearn.model_selection import train_test_split\n",
        "from sklearn import metrics\n",
        "from sklearn.tree import DecisionTreeClassifier, DecisionTreeRegressor\n",
        "from sklearn.model_selection import cross_val_score"
      ]
    },
    {
      "cell_type": "markdown",
      "source": [
        "1.Visualizacion del DataSet"
      ],
      "metadata": {
        "id": "stytDEEUO_2a"
      }
    },
    {
      "cell_type": "code",
      "source": [
        "casas :pd.DataFrame = pd.read_csv('Casitas.csv')\n",
        "casas.drop(casas.index[9501:99499], inplace=True)\n",
        "casas.head()"
      ],
      "metadata": {
        "colab": {
          "base_uri": "https://localhost:8080/",
          "height": 206
        },
        "id": "Tdh-54o8x165",
        "outputId": "646d924c-7813-4b5b-d5a7-751da18f7395"
      },
      "execution_count": 146,
      "outputs": [
        {
          "output_type": "execute_result",
          "data": {
            "text/plain": [
              "   Unnamed: 0 property_type     price     location       city  baths  \\\n",
              "0           0          Flat  10000000         G-10  Islamabad      2   \n",
              "1           1          Flat   6900000         E-11  Islamabad      3   \n",
              "2           2         House  16500000         G-15  Islamabad      6   \n",
              "3           3         House  43500000    Bani Gala  Islamabad      4   \n",
              "4           4         House   7000000  DHA Defence  Islamabad      3   \n",
              "\n",
              "    purpose  bedrooms  Area_in_Marla  \n",
              "0  For Sale         2            4.0  \n",
              "1  For Sale         3            5.6  \n",
              "2  For Sale         5            8.0  \n",
              "3  For Sale         4           40.0  \n",
              "4  For Sale         3            8.0  "
            ],
            "text/html": [
              "\n",
              "  <div id=\"df-7cdd0b1c-f9f4-4e6b-aaed-f8a9935eff86\" class=\"colab-df-container\">\n",
              "    <div>\n",
              "<style scoped>\n",
              "    .dataframe tbody tr th:only-of-type {\n",
              "        vertical-align: middle;\n",
              "    }\n",
              "\n",
              "    .dataframe tbody tr th {\n",
              "        vertical-align: top;\n",
              "    }\n",
              "\n",
              "    .dataframe thead th {\n",
              "        text-align: right;\n",
              "    }\n",
              "</style>\n",
              "<table border=\"1\" class=\"dataframe\">\n",
              "  <thead>\n",
              "    <tr style=\"text-align: right;\">\n",
              "      <th></th>\n",
              "      <th>Unnamed: 0</th>\n",
              "      <th>property_type</th>\n",
              "      <th>price</th>\n",
              "      <th>location</th>\n",
              "      <th>city</th>\n",
              "      <th>baths</th>\n",
              "      <th>purpose</th>\n",
              "      <th>bedrooms</th>\n",
              "      <th>Area_in_Marla</th>\n",
              "    </tr>\n",
              "  </thead>\n",
              "  <tbody>\n",
              "    <tr>\n",
              "      <th>0</th>\n",
              "      <td>0</td>\n",
              "      <td>Flat</td>\n",
              "      <td>10000000</td>\n",
              "      <td>G-10</td>\n",
              "      <td>Islamabad</td>\n",
              "      <td>2</td>\n",
              "      <td>For Sale</td>\n",
              "      <td>2</td>\n",
              "      <td>4.0</td>\n",
              "    </tr>\n",
              "    <tr>\n",
              "      <th>1</th>\n",
              "      <td>1</td>\n",
              "      <td>Flat</td>\n",
              "      <td>6900000</td>\n",
              "      <td>E-11</td>\n",
              "      <td>Islamabad</td>\n",
              "      <td>3</td>\n",
              "      <td>For Sale</td>\n",
              "      <td>3</td>\n",
              "      <td>5.6</td>\n",
              "    </tr>\n",
              "    <tr>\n",
              "      <th>2</th>\n",
              "      <td>2</td>\n",
              "      <td>House</td>\n",
              "      <td>16500000</td>\n",
              "      <td>G-15</td>\n",
              "      <td>Islamabad</td>\n",
              "      <td>6</td>\n",
              "      <td>For Sale</td>\n",
              "      <td>5</td>\n",
              "      <td>8.0</td>\n",
              "    </tr>\n",
              "    <tr>\n",
              "      <th>3</th>\n",
              "      <td>3</td>\n",
              "      <td>House</td>\n",
              "      <td>43500000</td>\n",
              "      <td>Bani Gala</td>\n",
              "      <td>Islamabad</td>\n",
              "      <td>4</td>\n",
              "      <td>For Sale</td>\n",
              "      <td>4</td>\n",
              "      <td>40.0</td>\n",
              "    </tr>\n",
              "    <tr>\n",
              "      <th>4</th>\n",
              "      <td>4</td>\n",
              "      <td>House</td>\n",
              "      <td>7000000</td>\n",
              "      <td>DHA Defence</td>\n",
              "      <td>Islamabad</td>\n",
              "      <td>3</td>\n",
              "      <td>For Sale</td>\n",
              "      <td>3</td>\n",
              "      <td>8.0</td>\n",
              "    </tr>\n",
              "  </tbody>\n",
              "</table>\n",
              "</div>\n",
              "    <div class=\"colab-df-buttons\">\n",
              "\n",
              "  <div class=\"colab-df-container\">\n",
              "    <button class=\"colab-df-convert\" onclick=\"convertToInteractive('df-7cdd0b1c-f9f4-4e6b-aaed-f8a9935eff86')\"\n",
              "            title=\"Convert this dataframe to an interactive table.\"\n",
              "            style=\"display:none;\">\n",
              "\n",
              "  <svg xmlns=\"http://www.w3.org/2000/svg\" height=\"24px\" viewBox=\"0 -960 960 960\">\n",
              "    <path d=\"M120-120v-720h720v720H120Zm60-500h600v-160H180v160Zm220 220h160v-160H400v160Zm0 220h160v-160H400v160ZM180-400h160v-160H180v160Zm440 0h160v-160H620v160ZM180-180h160v-160H180v160Zm440 0h160v-160H620v160Z\"/>\n",
              "  </svg>\n",
              "    </button>\n",
              "\n",
              "  <style>\n",
              "    .colab-df-container {\n",
              "      display:flex;\n",
              "      gap: 12px;\n",
              "    }\n",
              "\n",
              "    .colab-df-convert {\n",
              "      background-color: #E8F0FE;\n",
              "      border: none;\n",
              "      border-radius: 50%;\n",
              "      cursor: pointer;\n",
              "      display: none;\n",
              "      fill: #1967D2;\n",
              "      height: 32px;\n",
              "      padding: 0 0 0 0;\n",
              "      width: 32px;\n",
              "    }\n",
              "\n",
              "    .colab-df-convert:hover {\n",
              "      background-color: #E2EBFA;\n",
              "      box-shadow: 0px 1px 2px rgba(60, 64, 67, 0.3), 0px 1px 3px 1px rgba(60, 64, 67, 0.15);\n",
              "      fill: #174EA6;\n",
              "    }\n",
              "\n",
              "    .colab-df-buttons div {\n",
              "      margin-bottom: 4px;\n",
              "    }\n",
              "\n",
              "    [theme=dark] .colab-df-convert {\n",
              "      background-color: #3B4455;\n",
              "      fill: #D2E3FC;\n",
              "    }\n",
              "\n",
              "    [theme=dark] .colab-df-convert:hover {\n",
              "      background-color: #434B5C;\n",
              "      box-shadow: 0px 1px 3px 1px rgba(0, 0, 0, 0.15);\n",
              "      filter: drop-shadow(0px 1px 2px rgba(0, 0, 0, 0.3));\n",
              "      fill: #FFFFFF;\n",
              "    }\n",
              "  </style>\n",
              "\n",
              "    <script>\n",
              "      const buttonEl =\n",
              "        document.querySelector('#df-7cdd0b1c-f9f4-4e6b-aaed-f8a9935eff86 button.colab-df-convert');\n",
              "      buttonEl.style.display =\n",
              "        google.colab.kernel.accessAllowed ? 'block' : 'none';\n",
              "\n",
              "      async function convertToInteractive(key) {\n",
              "        const element = document.querySelector('#df-7cdd0b1c-f9f4-4e6b-aaed-f8a9935eff86');\n",
              "        const dataTable =\n",
              "          await google.colab.kernel.invokeFunction('convertToInteractive',\n",
              "                                                    [key], {});\n",
              "        if (!dataTable) return;\n",
              "\n",
              "        const docLinkHtml = 'Like what you see? Visit the ' +\n",
              "          '<a target=\"_blank\" href=https://colab.research.google.com/notebooks/data_table.ipynb>data table notebook</a>'\n",
              "          + ' to learn more about interactive tables.';\n",
              "        element.innerHTML = '';\n",
              "        dataTable['output_type'] = 'display_data';\n",
              "        await google.colab.output.renderOutput(dataTable, element);\n",
              "        const docLink = document.createElement('div');\n",
              "        docLink.innerHTML = docLinkHtml;\n",
              "        element.appendChild(docLink);\n",
              "      }\n",
              "    </script>\n",
              "  </div>\n",
              "\n",
              "\n",
              "<div id=\"df-0705a732-5ee1-4bd5-bebb-56b72b7d3dab\">\n",
              "  <button class=\"colab-df-quickchart\" onclick=\"quickchart('df-0705a732-5ee1-4bd5-bebb-56b72b7d3dab')\"\n",
              "            title=\"Suggest charts.\"\n",
              "            style=\"display:none;\">\n",
              "\n",
              "<svg xmlns=\"http://www.w3.org/2000/svg\" height=\"24px\"viewBox=\"0 0 24 24\"\n",
              "     width=\"24px\">\n",
              "    <g>\n",
              "        <path d=\"M19 3H5c-1.1 0-2 .9-2 2v14c0 1.1.9 2 2 2h14c1.1 0 2-.9 2-2V5c0-1.1-.9-2-2-2zM9 17H7v-7h2v7zm4 0h-2V7h2v10zm4 0h-2v-4h2v4z\"/>\n",
              "    </g>\n",
              "</svg>\n",
              "  </button>\n",
              "\n",
              "<style>\n",
              "  .colab-df-quickchart {\n",
              "      --bg-color: #E8F0FE;\n",
              "      --fill-color: #1967D2;\n",
              "      --hover-bg-color: #E2EBFA;\n",
              "      --hover-fill-color: #174EA6;\n",
              "      --disabled-fill-color: #AAA;\n",
              "      --disabled-bg-color: #DDD;\n",
              "  }\n",
              "\n",
              "  [theme=dark] .colab-df-quickchart {\n",
              "      --bg-color: #3B4455;\n",
              "      --fill-color: #D2E3FC;\n",
              "      --hover-bg-color: #434B5C;\n",
              "      --hover-fill-color: #FFFFFF;\n",
              "      --disabled-bg-color: #3B4455;\n",
              "      --disabled-fill-color: #666;\n",
              "  }\n",
              "\n",
              "  .colab-df-quickchart {\n",
              "    background-color: var(--bg-color);\n",
              "    border: none;\n",
              "    border-radius: 50%;\n",
              "    cursor: pointer;\n",
              "    display: none;\n",
              "    fill: var(--fill-color);\n",
              "    height: 32px;\n",
              "    padding: 0;\n",
              "    width: 32px;\n",
              "  }\n",
              "\n",
              "  .colab-df-quickchart:hover {\n",
              "    background-color: var(--hover-bg-color);\n",
              "    box-shadow: 0 1px 2px rgba(60, 64, 67, 0.3), 0 1px 3px 1px rgba(60, 64, 67, 0.15);\n",
              "    fill: var(--button-hover-fill-color);\n",
              "  }\n",
              "\n",
              "  .colab-df-quickchart-complete:disabled,\n",
              "  .colab-df-quickchart-complete:disabled:hover {\n",
              "    background-color: var(--disabled-bg-color);\n",
              "    fill: var(--disabled-fill-color);\n",
              "    box-shadow: none;\n",
              "  }\n",
              "\n",
              "  .colab-df-spinner {\n",
              "    border: 2px solid var(--fill-color);\n",
              "    border-color: transparent;\n",
              "    border-bottom-color: var(--fill-color);\n",
              "    animation:\n",
              "      spin 1s steps(1) infinite;\n",
              "  }\n",
              "\n",
              "  @keyframes spin {\n",
              "    0% {\n",
              "      border-color: transparent;\n",
              "      border-bottom-color: var(--fill-color);\n",
              "      border-left-color: var(--fill-color);\n",
              "    }\n",
              "    20% {\n",
              "      border-color: transparent;\n",
              "      border-left-color: var(--fill-color);\n",
              "      border-top-color: var(--fill-color);\n",
              "    }\n",
              "    30% {\n",
              "      border-color: transparent;\n",
              "      border-left-color: var(--fill-color);\n",
              "      border-top-color: var(--fill-color);\n",
              "      border-right-color: var(--fill-color);\n",
              "    }\n",
              "    40% {\n",
              "      border-color: transparent;\n",
              "      border-right-color: var(--fill-color);\n",
              "      border-top-color: var(--fill-color);\n",
              "    }\n",
              "    60% {\n",
              "      border-color: transparent;\n",
              "      border-right-color: var(--fill-color);\n",
              "    }\n",
              "    80% {\n",
              "      border-color: transparent;\n",
              "      border-right-color: var(--fill-color);\n",
              "      border-bottom-color: var(--fill-color);\n",
              "    }\n",
              "    90% {\n",
              "      border-color: transparent;\n",
              "      border-bottom-color: var(--fill-color);\n",
              "    }\n",
              "  }\n",
              "</style>\n",
              "\n",
              "  <script>\n",
              "    async function quickchart(key) {\n",
              "      const quickchartButtonEl =\n",
              "        document.querySelector('#' + key + ' button');\n",
              "      quickchartButtonEl.disabled = true;  // To prevent multiple clicks.\n",
              "      quickchartButtonEl.classList.add('colab-df-spinner');\n",
              "      try {\n",
              "        const charts = await google.colab.kernel.invokeFunction(\n",
              "            'suggestCharts', [key], {});\n",
              "      } catch (error) {\n",
              "        console.error('Error during call to suggestCharts:', error);\n",
              "      }\n",
              "      quickchartButtonEl.classList.remove('colab-df-spinner');\n",
              "      quickchartButtonEl.classList.add('colab-df-quickchart-complete');\n",
              "    }\n",
              "    (() => {\n",
              "      let quickchartButtonEl =\n",
              "        document.querySelector('#df-0705a732-5ee1-4bd5-bebb-56b72b7d3dab button');\n",
              "      quickchartButtonEl.style.display =\n",
              "        google.colab.kernel.accessAllowed ? 'block' : 'none';\n",
              "    })();\n",
              "  </script>\n",
              "</div>\n",
              "    </div>\n",
              "  </div>\n"
            ]
          },
          "metadata": {},
          "execution_count": 146
        }
      ]
    },
    {
      "cell_type": "markdown",
      "source": [
        "2.Graficos de distribucion de datos"
      ],
      "metadata": {
        "id": "AAw7U_4pPI1a"
      }
    },
    {
      "cell_type": "code",
      "source": [
        "#hacemos graficos de difusion de los precios, baños y area en marla\n",
        "sns.boxplot(casas.price)\n",
        "sns.displot(casas.baths)\n",
        "sns.displot(casas.Area_in_Marla)\n",
        "print(casas.price.describe(percentiles = [0.25,0.50,0.75,0.85,0.90,1]))#saber como estan los precios\n",
        "casas.info()#saber que tipos de datos tenemos"
      ],
      "metadata": {
        "id": "quOZvnPgzF9S",
        "colab": {
          "base_uri": "https://localhost:8080/",
          "height": 1000
        },
        "outputId": "23048bcb-b0a5-484d-c5a7-aed892b48884"
      },
      "execution_count": 147,
      "outputs": [
        {
          "output_type": "stream",
          "name": "stdout",
          "text": [
            "count    9.501000e+03\n",
            "mean     1.065205e+07\n",
            "std      1.050547e+07\n",
            "min      1.600000e+04\n",
            "25%      2.600000e+06\n",
            "50%      7.960000e+06\n",
            "75%      1.500000e+07\n",
            "85%      2.200000e+07\n",
            "90%      2.600000e+07\n",
            "100%     4.450000e+07\n",
            "max      4.450000e+07\n",
            "Name: price, dtype: float64\n",
            "<class 'pandas.core.frame.DataFrame'>\n",
            "RangeIndex: 9501 entries, 0 to 9500\n",
            "Data columns (total 9 columns):\n",
            " #   Column         Non-Null Count  Dtype  \n",
            "---  ------         --------------  -----  \n",
            " 0   Unnamed: 0     9501 non-null   int64  \n",
            " 1   property_type  9501 non-null   object \n",
            " 2   price          9501 non-null   int64  \n",
            " 3   location       9501 non-null   object \n",
            " 4   city           9501 non-null   object \n",
            " 5   baths          9501 non-null   int64  \n",
            " 6   purpose        9501 non-null   object \n",
            " 7   bedrooms       9501 non-null   int64  \n",
            " 8   Area_in_Marla  9501 non-null   float64\n",
            "dtypes: float64(1), int64(4), object(4)\n",
            "memory usage: 668.2+ KB\n"
          ]
        },
        {
          "output_type": "display_data",
          "data": {
            "text/plain": [
              "<Figure size 640x480 with 1 Axes>"
            ],
            "image/png": "[encoded data removed]"
          },
          "metadata": {}
        },
        {
          "output_type": "display_data",
          "data": {
            "text/plain": [
              "<Figure size 500x500 with 1 Axes>"
            ],
            "image/png": "[encoded data removed]"
          },
          "metadata": {}
        },
        {
          "output_type": "display_data",
          "data": {
            "text/plain": [
              "<Figure size 500x500 with 1 Axes>"
            ],
            "image/png": "[encoded data removed]"
          },
          "metadata": {}
        }
      ]
    },
    {
      "cell_type": "markdown",
      "source": [
        "3.Decidimos elegir a predecir el \"purpose\" como atributo categorico y \"price\" como numerico"
      ],
      "metadata": {
        "id": "iC5yFB9tPTDg"
      }
    },
    {
      "cell_type": "code",
      "source": [
        "#El atributo numerico sera el precio\n",
        "N_cols = ['Area_in_Marla','baths','bedrooms']#usaremos area en marla, baños y dormitorios para predecir precio\n",
        "NX = casas[N_cols]\n",
        "Ny = casas.price\n",
        "NX_train, NX_test, Ny_train, Ny_test = train_test_split(NX, Ny, test_size=0.25,random_state = 0)\n",
        "\n",
        "#atributo categorico es el tipo de propiedad, el cual es binario\n",
        "le = preprocessing.LabelEncoder()\n",
        "le.fit(casas.property_type)#encodearemos el purpose a un valor numerico\n",
        "C_cols = ['price', 'baths']#vamos a predecir el tipo de propiedad en base al numero de los baños y el precio\n",
        "CX = casas[C_cols]\n",
        "Cy = le.transform(casas.property_type)\n",
        "CX_train, CX_test, Cy_train, Cy_test = train_test_split(CX, Cy, test_size=0.25, random_state=0)#Hacemos train test split aunque despues vayamos a usar cross validation"
      ],
      "metadata": {
        "id": "_x7zH8-M16su"
      },
      "execution_count": 148,
      "outputs": []
    },
    {
      "cell_type": "markdown",
      "source": [
        "5.Regresion Lineal"
      ],
      "metadata": {
        "id": "xWSvORFZtsxP"
      }
    },
    {
      "cell_type": "code",
      "source": [
        "LinReg = linear_model.LinearRegression()\n",
        "#LinReg.fit(NX_train,Ny_train)\n",
        "#LinReg_Ny_pred = LinReg.predict(NX_test) Esto lo dejo como una alternativa para entrenar el modelo aunque haya decidido usar cross val score\n",
        "score_LinReg = cross_val_score(LinReg, NX, Ny, cv=5)#cross val score entrena y evalua el modelo con 5 folds(ya estaba en default igual)\n",
        "print(\"Puntaje de %0.2f con una desviacion tipica de %0.2f\" % (score_LinReg.mean(), score_LinReg.std()))# printeamos el promedio de la precision de todos los folds"
      ],
      "metadata": {
        "id": "OcNE9Ije0yPD",
        "colab": {
          "base_uri": "https://localhost:8080/"
        },
        "outputId": "1d0fc8fb-4419-4f44-d35c-3d29593782d9"
      },
      "execution_count": 149,
      "outputs": [
        {
          "output_type": "stream",
          "name": "stdout",
          "text": [
            "Puntaje de 0.22 con una desviacion tipica de 0.04\n"
          ]
        }
      ]
    },
    {
      "cell_type": "markdown",
      "source": [
        "Regresor de arbol de decision"
      ],
      "metadata": {
        "id": "3ifwTriNu8ae"
      }
    },
    {
      "cell_type": "code",
      "source": [
        "TreeReg = DecisionTreeRegressor()\n",
        "score_TreeReg = cross_val_score(TreeReg, NX, Ny, cv=10)\n",
        "print(\"Puntaje de %0.2f con una desviacion tipica de %0.2f\" % (score_TreeReg.mean(), score_TreeReg.std()))"
      ],
      "metadata": {
        "colab": {
          "base_uri": "https://localhost:8080/"
        },
        "id": "c-oNzh9tu7zn",
        "outputId": "3f75655e-aa93-4290-bc5c-b4ff47513c50"
      },
      "execution_count": 150,
      "outputs": [
        {
          "output_type": "stream",
          "name": "stdout",
          "text": [
            "Puntaje de 0.24 con una desviacion tipica de 0.05\n"
          ]
        }
      ]
    },
    {
      "cell_type": "markdown",
      "source": [
        "En este caso se puede evaluar usando cross validation con 10 folds, pero tambien se puede usar una matriz para despues hacer una heatmap con ella. El mejor modelo de predicion se decide mediante el puntaje de precision que obtiene. En esta ocasion el modelo de regresion lineal tiene un 22% de precision con un 4% de desviacion tipica y el arbol de decision regresor tiene un 24% de precision con un 6% de desviacion."
      ],
      "metadata": {
        "id": "xEciTsgjxb_2"
      }
    },
    {
      "cell_type": "markdown",
      "source": [
        "6.Regresion Logistica"
      ],
      "metadata": {
        "id": "eV7SC7gJlgqZ"
      }
    },
    {
      "cell_type": "code",
      "source": [
        "LogReg = linear_model.LogisticRegression(random_state = 0)#en este caso no vamos a mezclar los datos\n",
        "#LogReg.fit(CX_train, Cy_train)\n",
        "#LogReg_Cy_pred = LogReg.predict(CX_test)\n",
        "score_LogReg = cross_val_score(LogReg, CX, Cy, cv=5)\n",
        "print(\"Puntaje de %0.2f con una desviacion tipica de %0.2f\" % (score_LogReg.mean(), score_LogReg.std()))"
      ],
      "metadata": {
        "id": "ZYNbAHeflgUA",
        "colab": {
          "base_uri": "https://localhost:8080/"
        },
        "outputId": "b83aa872-1a59-4ae6-b3f8-b90dc966ec5b"
      },
      "execution_count": 151,
      "outputs": [
        {
          "output_type": "stream",
          "name": "stdout",
          "text": [
            "Puntaje de 0.64 con una desviacion tipica de 0.00\n"
          ]
        }
      ]
    },
    {
      "cell_type": "markdown",
      "source": [
        "Clasificador de arbol de decision"
      ],
      "metadata": {
        "id": "PiMRp9Ybm1mt"
      }
    },
    {
      "cell_type": "code",
      "source": [
        "TreeClf = DecisionTreeClassifier(random_state = 0)\n",
        "#TreeClf.fit(CX_train,Cy_train)\n",
        "#TreeClf_Cy_pred = TreeClf.predict(CX_test)\n",
        "score_TreeClf = cross_val_score(TreeClf, CX, Cy, cv=5)\n",
        "print(\"Puntaje de %0.2f con una desviacion tipica de %0.2f\" % (score_TreeClf.mean(), score_TreeClf.std()))"
      ],
      "metadata": {
        "colab": {
          "base_uri": "https://localhost:8080/"
        },
        "id": "8EYFv2IsXVtJ",
        "outputId": "b6bddfd6-a5a1-4d23-a96d-51288bff36a9"
      },
      "execution_count": 152,
      "outputs": [
        {
          "output_type": "stream",
          "name": "stdout",
          "text": [
            "Puntaje de 0.67 con una desviacion tipica de 0.02\n"
          ]
        }
      ]
    },
    {
      "cell_type": "markdown",
      "source": [
        "Hay diferentes maneras de evaluar los arboles de decision, esto puede ser mediante matrizes, heatmaps, metrics.accuracy_score y usando validacion cruzada. El \"mejor arbol\" se elige mediante la precision que este tiene al comparar sus predicciones con los valores de testeo. Ambos modelos mediante la validacion cruzada presentan una precision similar, pero el clasificador logra ser mas preciso pero tambien mas disperso en sus predicciones."
      ],
      "metadata": {
        "id": "BoCvgjo-m6cw"
      }
    },
    {
      "cell_type": "markdown",
      "source": [
        "7.\n",
        "-  **Holdout Cross Validation**\n",
        "\n",
        "> Este metodo divide el dataset inicial en dos, el de testing y el de training. El training dataset sera mas grande que el de testing y se entrenara el modelo con el dataset de training y se testeara con el de test.\n",
        "\n",
        "> Una desventaja de este es que el dataset de test puede contener caracteristicas esenciales que no se podran entrenar, por lo cual su score bajara considerablemente.\n",
        "\n",
        "> A pesar de ello, este metodo ofrece una simplicidad que hace que sea facil de entender y usar\n",
        "\n",
        "- **K-fold Cross Validation**\n",
        "\n",
        "> Este metodo entrena el modelo utilizando todo el dataset. Despues divide la muestra de datos en 'k' número de folds. A partir de esto, estos folds se convierten en los conjuntos de datos de prueba que luego se utilizan para probar la validación de un modelo uno por uno.\n",
        "\n",
        "> Una ventaja es que este modelo es imparcial e inclusivo ya que capacita y prueba casi todos los subconjuntos.\n",
        "\n",
        "- **Leave-One-Out Cross Validation**\n",
        "\n",
        "> Este es una variante del metodo Leave-P-Out, que consiste en usar \"data points\". El numero de data points sera \"n\" se usara para separar el training dataset del test datset, pero esta variante usara solo un data point para testear y el resto para training.\n",
        "\n",
        "> Por esta razon se puede decir que LOO es mas apropiado al estar usando un dataset pequeño ya que puede entrenarse mejor por cada iteracion.\n",
        "\n",
        "> Pero, con datasets mas grandes, este metodo tomara mucho tiempo en entrenarse y exigira mucho computacionalmente."
      ],
      "metadata": {
        "id": "Fd5nk4aO6l0b"
      }
    },
    {
      "cell_type": "markdown",
      "source": [
        "**Conclusion**\n",
        "> En este trabajo se eligio dataset con 4 atributos categoricos y 4 numericos. Se hizo un analisi exploratorio del dataset. Se entrenaron y evaluaron 4 modelos distintos los cuales el clasificador de arbol de decision y la regresion logistica lograron tener un puntaje positivo, pero en ambos casos los resultados entre los dos eran parecidos. Se decidio optar por la cross validation para la evaluacion y se compararon 3 modelos distintos de este, de los cuales se termino K-fold."
      ],
      "metadata": {
        "id": "PCuKP5DaC97Z"
      }
    }
  ]
}